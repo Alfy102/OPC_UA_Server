{
 "cells": [
  {
   "cell_type": "code",
   "execution_count": 7,
   "source": [
    "import sqlite3\r\n",
    "from datetime import timedelta, datetime"
   ],
   "outputs": [],
   "metadata": {}
  },
  {
   "cell_type": "code",
   "execution_count": 8,
   "source": [
    "database_file = \"variable_history.sqlite3\"\r\n",
    "conn = sqlite3.connect(database_file)"
   ],
   "outputs": [],
   "metadata": {}
  },
  {
   "cell_type": "code",
   "execution_count": 9,
   "source": [
    "crsr = conn.cursor()"
   ],
   "outputs": [],
   "metadata": {}
  },
  {
   "cell_type": "code",
   "execution_count": 10,
   "source": [
    "current_time = datetime.now().replace(microsecond=0, second=0)#, minute=0)\r\n",
    "added_time = current_time + timedelta(minutes=1)  "
   ],
   "outputs": [],
   "metadata": {}
  },
  {
   "cell_type": "code",
   "execution_count": 11,
   "source": [
    "crsr.execute(f\"DELETE FROM '2_10004' WHERE SourceTimestamp < '{added_time}';\")"
   ],
   "outputs": [
    {
     "output_type": "execute_result",
     "data": {
      "text/plain": [
       "<sqlite3.Cursor at 0x14cfd27a110>"
      ]
     },
     "metadata": {},
     "execution_count": 11
    }
   ],
   "metadata": {}
  },
  {
   "cell_type": "code",
   "execution_count": 12,
   "source": [
    "conn.commit()\r\n",
    "conn.close()"
   ],
   "outputs": [],
   "metadata": {}
  }
 ],
 "metadata": {
  "orig_nbformat": 4,
  "language_info": {
   "name": "python",
   "version": "3.9.6",
   "mimetype": "text/x-python",
   "codemirror_mode": {
    "name": "ipython",
    "version": 3
   },
   "pygments_lexer": "ipython3",
   "nbconvert_exporter": "python",
   "file_extension": ".py"
  },
  "kernelspec": {
   "name": "python3",
   "display_name": "Python 3.9.6 64-bit ('GSH_2': conda)"
  },
  "interpreter": {
   "hash": "7074df0c5abebda96c0cc2879a33103b27dedcb5f550f3e485fd9ee4fb0b4063"
  }
 },
 "nbformat": 4,
 "nbformat_minor": 2
}