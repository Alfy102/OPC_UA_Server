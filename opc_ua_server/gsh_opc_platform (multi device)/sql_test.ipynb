{
 "cells": [
  {
   "cell_type": "code",
   "execution_count": 61,
   "source": [
    "import sqlite3\r\n",
    "from datetime import timedelta, datetime, date\r\n",
    "import pandas as pd"
   ],
   "outputs": [],
   "metadata": {}
  },
  {
   "cell_type": "code",
   "execution_count": 2,
   "source": [
    "database_file = \"variable_history.sqlite3\"\r\n",
    "conn = sqlite3.connect(database_file)"
   ],
   "outputs": [],
   "metadata": {}
  },
  {
   "cell_type": "code",
   "execution_count": 9,
   "source": [
    "crsr = conn.cursor()"
   ],
   "outputs": [],
   "metadata": {}
  },
  {
   "cell_type": "code",
   "execution_count": 10,
   "source": [
    "current_time = datetime.now().replace(microsecond=0, second=0)#, minute=0)\r\n",
    "added_time = current_time + timedelta(minutes=1)  "
   ],
   "outputs": [],
   "metadata": {}
  },
  {
   "cell_type": "code",
   "execution_count": null,
   "source": [
    "crsr.execute(f\"DELETE FROM '2_10004' WHERE SourceTimestamp < '{added_time}';\")"
   ],
   "outputs": [],
   "metadata": {}
  },
  {
   "cell_type": "code",
   "execution_count": 48,
   "source": [
    "data = pd.read_sql_query(\"SELECT Count(Value),strftime ('%M',SourceTimestamp) Minute FROM '2_10004' bv GROUP BY strftime ('%M',SourceTimestamp)  ORDER BY _Id ASC\", conn)"
   ],
   "outputs": [],
   "metadata": {}
  },
  {
   "cell_type": "code",
   "execution_count": 65,
   "source": [
    "daysa = date.today()\r\n",
    "print(daysa)\r\n",
    "data = pd.read_sql_query(f\"SELECT Value,SourceTimestamp FROM '2_10004' WHERE SourceTimestamp BETWEEN '{daysa} 09:00:00' AND '{daysa} 10:00:00'\", conn)\r\n",
    "print(data)"
   ],
   "outputs": [
    {
     "output_type": "stream",
     "name": "stdout",
     "text": [
      "2021-09-13\n",
      "     Value             SourceTimestamp\n",
      "0     1934  2021-09-13 09:00:00.493194\n",
      "1     1935  2021-09-13 09:00:00.821566\n",
      "2     1936  2021-09-13 09:00:01.147459\n",
      "3     1937  2021-09-13 09:00:01.582358\n",
      "4     1938  2021-09-13 09:00:01.893703\n",
      "...    ...                         ...\n",
      "2912  4846  2021-09-13 09:21:21.162131\n",
      "2913  4847  2021-09-13 09:21:21.491852\n",
      "2914  4848  2021-09-13 09:21:22.371178\n",
      "2915  4849  2021-09-13 09:21:22.868086\n",
      "2916  4850  2021-09-13 09:21:23.084819\n",
      "\n",
      "[2917 rows x 2 columns]\n"
     ]
    }
   ],
   "metadata": {}
  },
  {
   "cell_type": "code",
   "execution_count": 49,
   "source": [
    "data.plot()"
   ],
   "outputs": [
    {
     "output_type": "execute_result",
     "data": {
      "text/plain": [
       "<AxesSubplot:>"
      ]
     },
     "metadata": {},
     "execution_count": 49
    },
    {
     "output_type": "display_data",
     "data": {
      "image/png": "[encoded data removed]",
      "text/plain": [
       "<Figure size 432x288 with 1 Axes>"
      ]
     },
     "metadata": {
      "needs_background": "light"
     }
    }
   ],
   "metadata": {}
  },
  {
   "cell_type": "code",
   "execution_count": 21,
   "source": [
    "conn.close()"
   ],
   "outputs": [],
   "metadata": {}
  }
 ],
 "metadata": {
  "orig_nbformat": 4,
  "language_info": {
   "name": "python",
   "version": "3.9.6",
   "mimetype": "text/x-python",
   "codemirror_mode": {
    "name": "ipython",
    "version": 3
   },
   "pygments_lexer": "ipython3",
   "nbconvert_exporter": "python",
   "file_extension": ".py"
  },
  "kernelspec": {
   "name": "python3",
   "display_name": "Python 3.9.6 64-bit ('GSH_2': conda)"
  },
  "interpreter": {
   "hash": "7074df0c5abebda96c0cc2879a33103b27dedcb5f550f3e485fd9ee4fb0b4063"
  }
 },
 "nbformat": 4,
 "nbformat_minor": 2
}