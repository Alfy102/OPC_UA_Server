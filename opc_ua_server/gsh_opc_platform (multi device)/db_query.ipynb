{
 "cells": [
  {
   "cell_type": "code",
   "execution_count": 35,
   "source": [
    "import sqlite3\r\n",
    "import pandas as pd"
   ],
   "outputs": [],
   "metadata": {}
  },
  {
   "cell_type": "code",
   "execution_count": 36,
   "source": [
    "conn = sqlite3.connect ('''variable_history.sqlite3''')"
   ],
   "outputs": [],
   "metadata": {}
  },
  {
   "cell_type": "code",
   "execution_count": 37,
   "source": [
    "data = pandas.read_sql_query(\"SELECT _Id, SourceTimestamp, Value FROM '2_10012'\", conn)"
   ],
   "outputs": [],
   "metadata": {}
  },
  {
   "cell_type": "code",
   "execution_count": 40,
   "source": [
    "print(data)\r\n",
    "conn.close()"
   ],
   "outputs": [
    {
     "output_type": "stream",
     "name": "stdout",
     "text": [
      "   _Id             SourceTimestamp Value\n",
      "0    1  2021-09-09 06:01:21.589060     0\n",
      "1    2  2021-09-09 06:39:29.030757     0\n",
      "2    3  2021-09-09 06:42:27.041524     0\n",
      "3    4  2021-09-09 06:45:02.063831     0\n",
      "4    5  2021-09-09 06:57:01.488497     0\n",
      "5    6  2021-09-09 06:59:03.061592     0\n",
      "6    7  2021-09-09 06:59:29.390451     0\n",
      "7    8                        None    12\n"
     ]
    }
   ],
   "metadata": {}
  }
 ],
 "metadata": {
  "orig_nbformat": 4,
  "language_info": {
   "name": "python",
   "version": "3.9.6",
   "mimetype": "text/x-python",
   "codemirror_mode": {
    "name": "ipython",
    "version": 3
   },
   "pygments_lexer": "ipython3",
   "nbconvert_exporter": "python",
   "file_extension": ".py"
  },
  "kernelspec": {
   "name": "python3",
   "display_name": "Python 3.9.6 64-bit ('GSH_2': conda)"
  },
  "interpreter": {
   "hash": "7074df0c5abebda96c0cc2879a33103b27dedcb5f550f3e485fd9ee4fb0b4063"
  }
 },
 "nbformat": 4,
 "nbformat_minor": 2
}